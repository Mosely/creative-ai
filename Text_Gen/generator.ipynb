{
 "cells": [
  {
   "cell_type": "markdown",
   "metadata": {},
   "source": [
    "# Slogan Generator - Test"
   ]
  },
  {
   "cell_type": "markdown",
   "metadata": {},
   "source": [
    "## 0) Import Dependencies"
   ]
  },
  {
   "cell_type": "code",
   "execution_count": 1,
   "metadata": {},
   "outputs": [],
   "source": [
    "import torch\n",
    "import torch.nn as nn\n",
    "from torch.autograd import Variable\n",
    "import unidecode\n",
    "import pandas as pd\n",
    "import string\n",
    "import json\n",
    "import requests\n",
    "import random\n",
    "import re\n",
    "\n",
    "device = torch.device(\"cuda:0\" if torch.cuda.is_available() else \"cpu\")\n",
    "torch.cuda.init()"
   ]
  },
  {
   "cell_type": "code",
   "execution_count": 2,
   "metadata": {},
   "outputs": [
    {
     "name": "stdout",
     "output_type": "stream",
     "text": [
      "cuda:0\n"
     ]
    }
   ],
   "source": [
    "print(device)"
   ]
  },
  {
   "cell_type": "markdown",
   "metadata": {},
   "source": [
    "## 1) Prepare Data"
   ]
  },
  {
   "cell_type": "code",
   "execution_count": 3,
   "metadata": {},
   "outputs": [
    {
     "name": "stdout",
     "output_type": "stream",
     "text": [
      "file_len =  45135\n"
     ]
    }
   ],
   "source": [
    "all_characters = string.printable\n",
    "n_characters = len(all_characters)\n",
    "\n",
    "file = unidecode.unidecode(open('../Data/all_data_text.txt').read())\n",
    "file_len = len(file)\n",
    "print('file_len = ', file_len)"
   ]
  },
  {
   "cell_type": "code",
   "execution_count": 4,
   "metadata": {},
   "outputs": [
    {
     "data": {
      "text/plain": [
       "['What is a tagline?',\n",
       " 'A memorable dramatic phrase',\n",
       " 'Reinforce and strengthen the audience',\n",
       " 'How is a tagline created?',\n",
       " 'A diamond is forever',\n",
       " \"A little dab'll do ya\",\n",
       " 'A mars a day helps you work, rest, and play',\n",
       " 'Ah! Bisto',\n",
       " 'All because the lady loves milk tray',\n",
       " 'Ask the man who owns one']"
      ]
     },
     "execution_count": 4,
     "metadata": {},
     "output_type": "execute_result"
    }
   ],
   "source": [
    "slogans = []\n",
    "\n",
    "with open('../Data/all_data_text.txt') as text_file:\n",
    "    for line in text_file:\n",
    "        slogans.append(line.split('\\n')[0])\n",
    "\n",
    "slogans[:10]"
   ]
  },
  {
   "cell_type": "markdown",
   "metadata": {},
   "source": [
    "### Picking a Random Slogan"
   ]
  },
  {
   "cell_type": "code",
   "execution_count": 5,
   "metadata": {},
   "outputs": [
    {
     "data": {
      "text/plain": [
       "'It Keeps Going, and Going, and Going...'"
      ]
     },
     "execution_count": 5,
     "metadata": {},
     "output_type": "execute_result"
    }
   ],
   "source": [
    "def random_slogan():\n",
    "    return random.choice(slogans)\n",
    "\n",
    "(random_slogan())"
   ]
  },
  {
   "cell_type": "markdown",
   "metadata": {},
   "source": [
    "### *ALTERNATE OPTION* Sample Random Chunks"
   ]
  },
  {
   "cell_type": "code",
   "execution_count": 6,
   "metadata": {},
   "outputs": [
    {
     "name": "stdout",
     "output_type": "stream",
     "text": [
      "cuse\n",
      "You miss 100% of the shots you don't take\n",
      "I've missed more than 9000 shots in my career I've lost almost 300 games 26 times I've been trusted to take the game winning shot and missed I've failed o\n"
     ]
    }
   ],
   "source": [
    "chunk_len = 200\n",
    "\n",
    "def random_chunk():\n",
    "    start_index = random.randint(0, file_len - chunk_len)\n",
    "    end_index = start_index + chunk_len + 1\n",
    "    chunk = file[start_index:end_index]\n",
    "    return chunk\n",
    "\n",
    "print(random_chunk())"
   ]
  },
  {
   "cell_type": "markdown",
   "metadata": {},
   "source": [
    "## 2) Build the Model"
   ]
  },
  {
   "cell_type": "code",
   "execution_count": 7,
   "metadata": {},
   "outputs": [],
   "source": [
    "class RNN(nn.Module):\n",
    "    def __init__(self, input_size, hidden_size, output_size, n_layers=1):\n",
    "        super(RNN, self).__init__()\n",
    "        self.input_size = input_size\n",
    "        self.hidden_size = hidden_size\n",
    "        self.output_size = output_size\n",
    "        self.n_layers = n_layers\n",
    "        \n",
    "        self.encoder = nn.Embedding(input_size, hidden_size)\n",
    "        self.gru = nn.GRU(hidden_size, hidden_size, n_layers)\n",
    "        self.decoder = nn.Linear(hidden_size, output_size)\n",
    "    \n",
    "    def forward(self, input, hidden):\n",
    "        input = self.encoder(input.view(1, -1)).to(device)\n",
    "        output, hidden = self.gru(input.view(1, 1, -1), hidden)\n",
    "        output = self.decoder(output.view(1, -1))\n",
    "        return output, hidden\n",
    "\n",
    "    def init_hidden(self):\n",
    "        return (torch.zeros(self.n_layers, 1, self.hidden_size))"
   ]
  },
  {
   "cell_type": "markdown",
   "metadata": {},
   "source": [
    "### Setting Inputs & Targets"
   ]
  },
  {
   "cell_type": "code",
   "execution_count": 8,
   "metadata": {},
   "outputs": [
    {
     "name": "stdout",
     "output_type": "stream",
     "text": [
      "tensor([ 10,  11,  12,  39,  40,  41], device='cuda:0')\n"
     ]
    }
   ],
   "source": [
    "# Turn string into list of longs\n",
    "def char_tensor(string):\n",
    "    tensor = torch.zeros(len(string)).long()\n",
    "    for c in range(len(string)):\n",
    "        tensor[c] = all_characters.index(string[c])\n",
    "    return (tensor.to(device))\n",
    "\n",
    "print(char_tensor('abcDEF'))"
   ]
  },
  {
   "cell_type": "markdown",
   "metadata": {},
   "source": [
    "We can assemble a pair of input and target tensors for training, from a random chunk. The input will be all characters up to the last, and the target will be all characters from the first."
   ]
  },
  {
   "cell_type": "markdown",
   "metadata": {},
   "source": [
    "**NOTE** Because *random_slogan()* returns string with single quotes, ```'str'```, we need to convert it into a double quoted string. That way, we don't encounter issues with strings that contain commas.\n",
    "\n",
    "There is no way in Python to do this, but by using **json**, we can output a double quoted string from the argument we pass in"
   ]
  },
  {
   "cell_type": "code",
   "execution_count": 10,
   "metadata": {},
   "outputs": [],
   "source": [
    "def random_training_set():    \n",
    "    chunk = json.dumps(random_chunk())\n",
    "    inp = char_tensor(chunk[:-1])\n",
    "    target = char_tensor(chunk[1:])\n",
    "    return inp, target"
   ]
  },
  {
   "cell_type": "markdown",
   "metadata": {},
   "source": [
    "## 3) Set up the Evaluator"
   ]
  },
  {
   "cell_type": "code",
   "execution_count": 11,
   "metadata": {},
   "outputs": [],
   "source": [
    "def evaluate(prime_str='A', predict_len=100, temperature=0.8):\n",
    "    hidden = decoder.init_hidden()\n",
    "    prime_input = char_tensor(prime_str)\n",
    "    predicted = prime_str\n",
    "    \n",
    "    # Use priming string to \"build up\" hidden state\n",
    "    for p in range(len(prime_str) - 1):\n",
    "        _, hidden = decoder(prime_input[p].to(device), hidden.to(device))\n",
    "        inp = prime_input[-1]\n",
    "        \n",
    "    inp = prime_input[-1]\n",
    "    \n",
    "    for p in range(predict_len):\n",
    "        output, hidden = decoder(inp.to(device), hidden.to(device))\n",
    "        \n",
    "        # Sample from the network as a multinomial distribution\n",
    "        output_dist = output.data.view(-1).div(temperature).exp()\n",
    "        top_i = torch.multinomial(output_dist, 1)[0]\n",
    "        \n",
    "        # Add predicted character to string and use as next input\n",
    "        predicted_char = all_characters[top_i]\n",
    "        predicted += predicted_char\n",
    "        inp = char_tensor(predicted_char)\n",
    "        \n",
    "    return predicted"
   ]
  },
  {
   "cell_type": "markdown",
   "metadata": {},
   "source": [
    "## 4) Training"
   ]
  },
  {
   "cell_type": "markdown",
   "metadata": {},
   "source": [
    "First, we will set up a helper function to keep track of time during training"
   ]
  },
  {
   "cell_type": "code",
   "execution_count": 12,
   "metadata": {},
   "outputs": [],
   "source": [
    "import time, math\n",
    "\n",
    "def time_since(since):\n",
    "    s = time.time() - since\n",
    "    m = math.floor(s / 60)\n",
    "    s -= m * 60\n",
    "    return '%dm %ds' % (m, s)"
   ]
  },
  {
   "cell_type": "markdown",
   "metadata": {},
   "source": [
    "Now, for the main training function:"
   ]
  },
  {
   "cell_type": "code",
   "execution_count": 13,
   "metadata": {},
   "outputs": [],
   "source": [
    "def train(inp, target):\n",
    "    hidden = decoder.init_hidden()\n",
    "    decoder.zero_grad()\n",
    "    loss = 0\n",
    "\n",
    "    for c in range(chunk_len):\n",
    "        output, hidden = decoder(inp[c].to(device), hidden.to(device))\n",
    "        loss += criterion(output, target[c].unsqueeze(0))\n",
    "\n",
    "    loss.backward()\n",
    "    decoder_optimizer.step()\n",
    "\n",
    "    return loss.data.item() / chunk_len"
   ]
  },
  {
   "cell_type": "markdown",
   "metadata": {},
   "source": [
    "We define our hyperparameters, instantiate the model, and start straining:"
   ]
  },
  {
   "cell_type": "code",
   "execution_count": 14,
   "metadata": {},
   "outputs": [
    {
     "name": "stdout",
     "output_type": "stream",
     "text": [
      "[5m 27s (500 4%) 3.1271]\n",
      "WhPany n\\ndm'h mne'Yoi iW  rel o \\oae aneuieh eh\\  unnnyse nnu  i  np\\ a   ya   ea,oIslcthnneo ui ,ei  \n",
      "\n",
      "[10m 54s (1000 8%) 2.5034]\n",
      "Whee ts, ditter hee mrtlre bed core the doaetdhs bect Eohlee afle\\nAhe wonyy, be thgaae\\nI flee tteaae \n",
      "\n",
      "[16m 21s (1500 12%) 2.1237]\n",
      "Wher cother\\nTithlith iIloi'n worth cufe the rot tilk dorky\\nDegpt tooder you bine\\nAnd Beits sots\\nTh \n",
      "\n",
      "[21m 48s (2000 16%) 1.7851]\n",
      "Whiens to wall and you sonle all to crying as colecent hact two wttrom can\\nIt that thou'h me worth\\nE \n",
      "\n",
      "[27m 15s (2500 20%) 1.5799]\n",
      "Where go our world along world's lume of may\\nThe eight night but gosing\\nGo, think nou've rufe\\nIn't  \n",
      "\n",
      "[32m 41s (3000 25%) 1.4135]\n",
      "Where, pain\\nThe dinysion to the sury\\nThe best the wrong so dorny factight uld your hall of\\nFook, it \n",
      "\n",
      "[38m 8s (3500 29%) 1.7195]\n",
      "Whertcind in our dights\\nWhen it something at a life that dowdy, to cather\\nWhoney, it's of Seone\\nMon \n",
      "\n",
      "[43m 35s (4000 33%) 1.4153]\n",
      "Where mrove\\nMonestery\\nThen swinterituslion\\nThe toping and it be\\nWith the pace the baTs\\nThe forgiv \n",
      "\n",
      "[49m 1s (4500 37%) 1.3456]\n",
      "What I watch the promelight\\nOne day what alone\\nIt's thee out redeasion and has a beat, change, Sumba \n",
      "\n",
      "[54m 28s (5000 41%) 1.2212]\n",
      "Whery on the hands\\nFeabal the world\\nAll the goodd\\nHome home what I'm botth, she\\nShyes for gairs\\nE \n",
      "\n",
      "[59m 55s (5500 45%) 1.0029]\n",
      "Why nights in merition of do it\\nThe life to wrong money, but be attitured it better to do it right, b \n",
      "\n",
      "[65m 27s (6000 50%) 1.2956]\n",
      "Whrack\\nI can't light or my my crying up again\\nI unselves that courder\\nIf you can't believe is and d \n",
      "\n",
      "[71m 0s (6500 54%) 0.8970]\n",
      "Whind it can scim\\nI miss on my mind\\nI'm how new that negative the so that way to pain's done\\nIt's n \n",
      "\n",
      "[76m 33s (7000 58%) 1.0387]\n",
      "What makes that no and that it's down thas ones of suster from this still to chancem\\nBecause Chupatio \n",
      "\n",
      "[82m 6s (7500 62%) 0.8418]\n",
      "Whood great to be challenges are wislies cagiosuriou to trade to fail\\nThere is not with me\\nWe are hi \n",
      "\n",
      "[87m 38s (8000 66%) 0.8515]\n",
      "Why life willou sack down\\nStrong that we hear, do\\nSee if the eye of the dround achiever\\nWe way woul \n",
      "\n",
      "[93m 11s (8500 70%) 0.8836]\n",
      "Whore day\\nSlowly lose moray\\nRise your life\\nAll heaked 2orned, but now need make on the day\\nI'll be \n",
      "\n",
      "[98m 43s (9000 75%) 0.7806]\n",
      "Whood boys\\nYeah, sqhemodiLes comy priters\\nIf not not the way\\nRemember to be happy without\\nIf we th \n",
      "\n",
      "[104m 15s (9500 79%) 0.6866]\n",
      "Whood is coming and I go to want would not hear to the lies to go fun\\nThe company with good at me\\nRi \n",
      "\n",
      "[109m 48s (10000 83%) 0.6824]\n",
      "Whind that boint an understand\\nThis strange duve a repend\\nI hove end with if something seart\\nWith T \n",
      "\n",
      "[115m 21s (10500 87%) 0.5371]\n",
      "Where\\nSouth the day you mady be the change you take\\nEvery bottom over anceing ogination\\nThe elder r \n",
      "\n",
      "[120m 53s (11000 91%) 0.2311]\n",
      "What it's a man from made up, beful to about things when heart ot and selouds are great of with the fu \n",
      "\n",
      "[126m 27s (11500 95%) 0.3169]\n",
      "Whusion sons\\nThe real relation\\nFether of love without life\\nA million this in your heart\\nThe chumpl \n",
      "\n",
      "[132m 8s (12000 100%) 0.4614]\n",
      "Where\\nWhen I could live my life\\nA million the energy\\nCan ate the man still aroun\\nBrybordy champiti \n",
      "\n"
     ]
    }
   ],
   "source": [
    "n_epochs = 12000\n",
    "print_every = 500\n",
    "plot_every = 50\n",
    "hidden_size = 512\n",
    "n_layers = 6\n",
    "lr = 0.0001\n",
    "\n",
    "decoder = RNN(n_characters, hidden_size, n_characters, n_layers)\n",
    "decoder.to(device)\n",
    "decoder_optimizer = torch.optim.Adam(decoder.parameters(), lr=lr)\n",
    "criterion = nn.CrossEntropyLoss()\n",
    "\n",
    "start = time.time()\n",
    "all_losses = []\n",
    "loss_avg = 0\n",
    "\n",
    "for epoch in range(1, n_epochs + 1):\n",
    "    loss = train(*random_training_set())       \n",
    "    loss_avg += loss\n",
    "    \n",
    "#     print(\"Time this takes: %s\" % (time_since(start)))\n",
    "\n",
    "    if epoch % print_every == 0:\n",
    "        print('[%s (%d %d%%) %.4f]' % (time_since(start), epoch, epoch / n_epochs * 100, loss))\n",
    "        print(evaluate('Wh', 100), '\\n')\n",
    "\n",
    "    if epoch % plot_every == 0:\n",
    "        all_losses.append(loss_avg / plot_every)\n",
    "        loss_avg = 0"
   ]
  },
  {
   "cell_type": "markdown",
   "metadata": {},
   "source": [
    "### Plotting the Training Loss"
   ]
  },
  {
   "cell_type": "code",
   "execution_count": 15,
   "metadata": {},
   "outputs": [
    {
     "data": {
      "text/plain": [
       "[<matplotlib.lines.Line2D at 0x7f93d86a7c88>]"
      ]
     },
     "execution_count": 15,
     "metadata": {},
     "output_type": "execute_result"
    },
    {
     "data": {
      "image/png": "[encoded data removed]",
      "text/plain": [
       "<Figure size 432x288 with 1 Axes>"
      ]
     },
     "metadata": {},
     "output_type": "display_data"
    }
   ],
   "source": [
    "import matplotlib.pyplot as plt\n",
    "import matplotlib.ticker as ticker\n",
    "%matplotlib inline\n",
    "\n",
    "plt.figure()\n",
    "plt.plot(all_losses)"
   ]
  },
  {
   "cell_type": "markdown",
   "metadata": {},
   "source": [
    "## 5) Evaluation: Creating Potential Slogans"
   ]
  },
  {
   "cell_type": "code",
   "execution_count": 19,
   "metadata": {},
   "outputs": [
    {
     "name": "stdout",
     "output_type": "stream",
     "text": [
      "Helloble quite of happiness closes, and who wish to side\\nToday's Tom Sawyer\\nHey just ever have a gift t\n"
     ]
    }
   ],
   "source": [
    "print(evaluate('Hello', 100, temperature=0.8))"
   ]
  },
  {
   "cell_type": "code",
   "execution_count": 17,
   "metadata": {},
   "outputs": [
    {
     "name": "stdout",
     "output_type": "stream",
     "text": [
      "Happiness is not something and be an answer, let it be\\nWhisper words of wisdom, let it be\\nLet it be, let it be,\n"
     ]
    }
   ],
   "source": [
    "print(evaluate('Happiness is ', 100, temperature=0.4))"
   ]
  },
  {
   "cell_type": "code",
   "execution_count": 18,
   "metadata": {},
   "outputs": [
    {
     "name": "stdout",
     "output_type": "stream",
     "text": [
      "Th partical?\n"
     ]
    }
   ],
   "source": [
    "print(evaluate('Th', 10, temperature=1.4))"
   ]
  },
  {
   "cell_type": "code",
   "execution_count": 20,
   "metadata": {},
   "outputs": [
    {
     "name": "stdout",
     "output_type": "stream",
     "text": [
      "Hello who is a product of like funs\\nCatch the miss which yaw it, flaplians to fade\\nAnd the movement that rude share\\nOh no no no I'm a rocket man\\nI don't think I can do\\nThere is not something oh and is a standing with life\\nI used to be who world agire\\n'hou, beaut, yeah, it's nothing new\\nHabias aB y\n"
     ]
    }
   ],
   "source": [
    "print(evaluate('Hello ', 300, temperature=1.0))"
   ]
  },
  {
   "cell_type": "code",
   "execution_count": 21,
   "metadata": {},
   "outputs": [
    {
     "name": "stdout",
     "output_type": "stream",
     "text": [
      "L' $Hp, PiLavu and going to be without you, baby tonight\\nAnd in the limelility our fear\\nThe underlying theme\\nWhis an income as are great\\nStrength does not come af drifter I could really I have leanny ontie\\nMy time is the priests\\nOf the Temples of it\\nI'm baby that now\\nI can't believe I ate the\n"
     ]
    }
   ],
   "source": [
    "print(evaluate('L', 300, temperature=0.6))"
   ]
  },
  {
   "cell_type": "code",
   "execution_count": 22,
   "metadata": {},
   "outputs": [
    {
     "name": "stdout",
     "output_type": "stream",
     "text": [
      "Love &.\r",
      "_!'!s Mo\"iWlizina\n"
     ]
    }
   ],
   "source": [
    "print(evaluate('Love ', 20, temperature=0.9))"
   ]
  },
  {
   "cell_type": "code",
   "execution_count": null,
   "metadata": {},
   "outputs": [],
   "source": [
    "def get_evaluations(num_predictions=100, predict_len=20, temperature=0.4):\n",
    "    samples = []\n",
    "    \n",
    "    while len(samples) != num_predictions:\n",
    "        prime_str = random.choice(string.ascii_uppercase)\n",
    "        samples.append(evaluate(prime_str, predict_len, temperature))\n",
    "        \n",
    "    return samples"
   ]
  },
  {
   "cell_type": "markdown",
   "metadata": {},
   "source": [
    "## 6) Sentiment Analysis on Potential Slogans"
   ]
  },
  {
   "cell_type": "code",
   "execution_count": null,
   "metadata": {},
   "outputs": [],
   "source": [
    "def get_sentiment(string):\n",
    "    r = requests.post(\"http://text-processing.com/api/sentiment/\", data={'text': string})\n",
    "    return json.loads(r.text)"
   ]
  },
  {
   "cell_type": "code",
   "execution_count": null,
   "metadata": {},
   "outputs": [],
   "source": [
    "def get_candidates(num_candidates=5, predict_len=20, temperature=0.8):\n",
    "    candidates = []\n",
    "    # Keep track of how many evaluations we calculate\n",
    "    sentiment_evaluations = 0\n",
    "    # Evaluate potential candidated until we have our desired amount\n",
    "    while len(candidates) != num_candidates:\n",
    "        prime_str = random.choice(string.ascii_uppercase)\n",
    "        sample = evaluate(prime_str, predict_len, temperature)\n",
    "        \n",
    "        # With predicted sample, run through sentiment analysis\n",
    "        sentiment = get_sentiment(sample)\n",
    "        sentiment_evaluations += 1\n",
    "        \n",
    "        # Finalizing candidate if it has a strong enough score\n",
    "        if sentiment['probability']['pos'] > 0.65:\n",
    "            print(sentiment['probability'])\n",
    "            candidates.append(sample)\n",
    "            \n",
    "        # Stop early if calculate too many evaluations (request limit)\n",
    "        if sentiment_evaluations >= 1000:\n",
    "            print(\"too many attempts: \" + str(sentiment_evaluations))\n",
    "            return candidates\n",
    "        \n",
    "    print(\"number of sentiment evaluations done: \" + str(sentiment_evaluations))\n",
    "    return candidates"
   ]
  },
  {
   "cell_type": "code",
   "execution_count": null,
   "metadata": {},
   "outputs": [],
   "source": [
    "get_candidates()"
   ]
  },
  {
   "cell_type": "markdown",
   "metadata": {},
   "source": [
    "## FINAL: Exporting the Trained Model"
   ]
  },
  {
   "cell_type": "markdown",
   "metadata": {},
   "source": [
    "For use outside of this notebook, we want to save the model and make it easy to import in other files"
   ]
  },
  {
   "cell_type": "code",
   "execution_count": 16,
   "metadata": {},
   "outputs": [],
   "source": [
    "torch.save(decoder.state_dict(), '../MVP/rnn_2.py')"
   ]
  },
  {
   "cell_type": "code",
   "execution_count": null,
   "metadata": {},
   "outputs": [],
   "source": []
  }
 ],
 "metadata": {
  "kernelspec": {
   "display_name": "Python 3",
   "language": "python",
   "name": "python3"
  },
  "language_info": {
   "codemirror_mode": {
    "name": "ipython",
    "version": 3
   },
   "file_extension": ".py",
   "mimetype": "text/x-python",
   "name": "python",
   "nbconvert_exporter": "python",
   "pygments_lexer": "ipython3",
   "version": "3.6.5"
  }
 },
 "nbformat": 4,
 "nbformat_minor": 2
}
